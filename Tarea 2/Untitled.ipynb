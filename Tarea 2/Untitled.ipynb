{
 "cells": [
  {
   "cell_type": "markdown",
   "id": "cb75ed3f-7f87-43db-9bde-a835c666df99",
   "metadata": {},
   "source": [
    "# Tarea Semanal 2: Algoritmo para calcular la DFT\n"
   ]
  },
  {
   "cell_type": "markdown",
   "id": "1ec3c043-6db3-4648-b8d0-973d7832b2eb",
   "metadata": {},
   "source": [
    "Desarrollar un algoritmo que calcule la transformada discreta de Fourier (DFT).\n",
    "\n",
    "𝑋[𝑘]=∑ (desde 𝑛=0 hasta n= 𝑁−1) 𝑥[n].𝑒^(-j*2pi*k*n/N)\n",
    "\n",
    "\n",
    "XX = mi_funcion_DFT( xx )\n",
    "\n",
    "xx: señal a analizar, una matriz (Nx1) de números reales. \n",
    "\n",
    "XX: DFT de xx, una matriz (Nx1) de números complejos."
   ]
  },
  {
   "cell_type": "markdown",
   "id": "92fe149d-4517-40e6-acd5-ae704d807b84",
   "metadata": {},
   "source": [
    "### Codigo de Python"
   ]
  },
  {
   "cell_type": "code",
   "execution_count": 4,
   "id": "6e55d8fa-56a5-4a65-9319-a9f5dc48d513",
   "metadata": {},
   "outputs": [
    {
     "data": {
      "text/plain": [
       "Text(0, 0.5, '|X[k]|')"
      ]
     },
     "execution_count": 4,
     "metadata": {},
     "output_type": "execute_result"
    },
    {
     "data": {
      "image/png": "[encoded data removed]",
      "text/plain": [
       "<Figure size 640x480 with 1 Axes>"
      ]
     },
     "metadata": {},
     "output_type": "display_data"
    }
   ],
   "source": [
    "import numpy as np\n",
    "import matplotlib.pyplot as plt\n",
    "\n",
    "\n",
    "N= 1000#\n",
    "fs= 1000 #Hz\n",
    "fo = 1 #DeltaF\n",
    "\n",
    "ts = 1/fs #s\n",
    "\n",
    "def mi_funcion_sen( vmax = 1, dc = 0, ff = 1, ph=0, nn = N, fs = fs):\n",
    "    tt = np.arange(nn) * (1/fs)   # vector de tiempo    \n",
    "    xx = vmax * np.sin(tt*2*np.pi*ff + ph) + dc\n",
    "\n",
    "    return tt, xx\n",
    "   \n",
    "def mi_funcion_DFT(xx):\n",
    "    N=  len(xx)\n",
    "    xx=np.array(xx).reshape(N, 1) #Vector columna\n",
    "    n= np.arange(N).reshape(N, 1) #Armo un vector columna\n",
    "    k= np.arange(N).reshape(1,N) #Armo un vector fila\n",
    "    \n",
    "    twiddle= np.exp(-1j*2*np.pi*n*k/N)\n",
    "    \n",
    "    #XX= np.dot(xx.reshape(1,N), twiddle)\n",
    "    XX = np.dot(twiddle.T, xx) #El .T es para hacer la transpuesta\n",
    "    return XX\n",
    "    \n",
    "# ts = 1/fs #s\n",
    "tt, xx = mi_funcion_sen( vmax = 1, dc = 0, ff = 200, ph=0, nn = N, fs = fs)\n",
    "XX = mi_funcion_DFT(xx)\n",
    "\n",
    "f = np.arange(-N/2, N/2) * fs / N  #De esta forma me queda centrado y puedo ver las frecuencias posritivas y las negativa\n",
    "plt.plot(f, np.abs(np.fft.fftshift(XX)), color=\"#2271B3\") #Con el shifteo  me queda centrado y puedo ver las frecuencias posritivas y las negativa\n",
    "#plt.plot(f, np.abs(XX), color= \"#2271B3\") #De esta forma me grafica pero en 200 y 800 Hz pero no es exactamente lo que quiero\n",
    "plt.title('Transformada Discreta de Fourier')\n",
    "plt.xlabel('Frecuencia [Hz]')\n",
    "plt.ylabel('|X[k]|')"
   ]
  },
  {
   "cell_type": "markdown",
   "id": "f402b536-c16e-4f53-ae15-3fda4267de25",
   "metadata": {},
   "source": [
    "Para realizar esta tarea, en primer lugar se guardó en la variable N la cantidad de muestras con las que se va a trabajar. Luego, se debió armar un vector fila utilizando los valores correspondientes a la funciòn recibida por mi_funcion_DFT, en este caso, una senoidal. A continuación, se armó un vector fila para el tiempo. Una vez realizado ello, se creó una matriz twiddle que será la encargada de hacer 𝑒^(-j*2pi*k*n/N)."
   ]
  },
  {
   "cell_type": "markdown",
   "id": "cd6982cb-9d95-4c98-ba03-f4192c823a06",
   "metadata": {},
   "source": [
    "Por último, para graficar, se utilizó la funciòn np.arange(-N/2, N/2) * fs / N  para poder graficar las frecuencias positivas y las negativas. Luego, con el comando fft.fftshift(XX) se puede centrar la señal para que quede en 200Hz y -200Hz. En el caso de no usar estas funciones, se podían observar las Deltas de Kronecker resultantes en 200 Hz y 800Hz"
   ]
  },
  {
   "cell_type": "code",
   "execution_count": null,
   "id": "da76c6c9-b055-45be-9fdb-04eb05772262",
   "metadata": {},
   "outputs": [],
   "source": []
  }
 ],
 "metadata": {
  "kernelspec": {
   "display_name": "Python 3 (ipykernel)",
   "language": "python",
   "name": "python3"
  },
  "language_info": {
   "codemirror_mode": {
    "name": "ipython",
    "version": 3
   },
   "file_extension": ".py",
   "mimetype": "text/x-python",
   "name": "python",
   "nbconvert_exporter": "python",
   "pygments_lexer": "ipython3",
   "version": "3.10.12"
  }
 },
 "nbformat": 4,
 "nbformat_minor": 5
}
